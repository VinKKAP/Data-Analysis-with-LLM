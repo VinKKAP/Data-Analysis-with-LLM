{
  "cells": [
    {
      "cell_type": "markdown",
      "metadata": {
        "id": "view-in-github",
        "colab_type": "text"
      },
      "source": [
        "<a href=\"https://colab.research.google.com/github/VinKKAP/Data-Analysis-with-LLM/blob/main/TryTask.ipynb\" target=\"_parent\"><img src=\"https://colab.research.google.com/assets/colab-badge.svg\" alt=\"Open In Colab\"/></a>"
      ]
    },
    {
      "cell_type": "code",
      "execution_count": 6,
      "metadata": {
        "colab": {
          "base_uri": "https://localhost:8080/"
        },
        "id": "kuyagNmx8wVD",
        "outputId": "a78a1c63-87ef-4e4b-ffc2-573d0e65943e"
      },
      "outputs": [
        {
          "output_type": "stream",
          "name": "stdout",
          "text": [
            "Requirement already satisfied: pip in /usr/local/lib/python3.10/dist-packages (24.3.1)\n",
            "Requirement already satisfied: torch in /usr/local/lib/python3.10/dist-packages (2.5.1+cu121)\n",
            "Requirement already satisfied: transformers in /usr/local/lib/python3.10/dist-packages (4.46.3)\n",
            "Requirement already satisfied: filelock in /usr/local/lib/python3.10/dist-packages (from torch) (3.16.1)\n",
            "Requirement already satisfied: typing-extensions>=4.8.0 in /usr/local/lib/python3.10/dist-packages (from torch) (4.12.2)\n",
            "Requirement already satisfied: networkx in /usr/local/lib/python3.10/dist-packages (from torch) (3.4.2)\n",
            "Requirement already satisfied: jinja2 in /usr/local/lib/python3.10/dist-packages (from torch) (3.1.4)\n",
            "Requirement already satisfied: fsspec in /usr/local/lib/python3.10/dist-packages (from torch) (2024.10.0)\n",
            "Requirement already satisfied: sympy==1.13.1 in /usr/local/lib/python3.10/dist-packages (from torch) (1.13.1)\n",
            "Requirement already satisfied: mpmath<1.4,>=1.1.0 in /usr/local/lib/python3.10/dist-packages (from sympy==1.13.1->torch) (1.3.0)\n",
            "Requirement already satisfied: huggingface-hub<1.0,>=0.23.2 in /usr/local/lib/python3.10/dist-packages (from transformers) (0.26.2)\n",
            "Requirement already satisfied: numpy>=1.17 in /usr/local/lib/python3.10/dist-packages (from transformers) (1.26.4)\n",
            "Requirement already satisfied: packaging>=20.0 in /usr/local/lib/python3.10/dist-packages (from transformers) (24.2)\n",
            "Requirement already satisfied: pyyaml>=5.1 in /usr/local/lib/python3.10/dist-packages (from transformers) (6.0.2)\n",
            "Requirement already satisfied: regex!=2019.12.17 in /usr/local/lib/python3.10/dist-packages (from transformers) (2024.9.11)\n",
            "Requirement already satisfied: requests in /usr/local/lib/python3.10/dist-packages (from transformers) (2.32.3)\n",
            "Requirement already satisfied: tokenizers<0.21,>=0.20 in /usr/local/lib/python3.10/dist-packages (from transformers) (0.20.3)\n",
            "Requirement already satisfied: safetensors>=0.4.1 in /usr/local/lib/python3.10/dist-packages (from transformers) (0.4.5)\n",
            "Requirement already satisfied: tqdm>=4.27 in /usr/local/lib/python3.10/dist-packages (from transformers) (4.66.6)\n",
            "Requirement already satisfied: MarkupSafe>=2.0 in /usr/local/lib/python3.10/dist-packages (from jinja2->torch) (3.0.2)\n",
            "Requirement already satisfied: charset-normalizer<4,>=2 in /usr/local/lib/python3.10/dist-packages (from requests->transformers) (3.4.0)\n",
            "Requirement already satisfied: idna<4,>=2.5 in /usr/local/lib/python3.10/dist-packages (from requests->transformers) (3.10)\n",
            "Requirement already satisfied: urllib3<3,>=1.21.1 in /usr/local/lib/python3.10/dist-packages (from requests->transformers) (2.2.3)\n",
            "Requirement already satisfied: certifi>=2017.4.17 in /usr/local/lib/python3.10/dist-packages (from requests->transformers) (2024.8.30)\n"
          ]
        }
      ],
      "source": [
        "\n",
        "# Upgrade pip und installiere die benötigten Pakete\n",
        "%pip install --upgrade pip\n",
        "%pip install --upgrade torch transformers\n",
        "import torch\n",
        "\n",
        "from google.colab import userdata\n",
        "userdata.get('HF_TOKEN')\n",
        "\n",
        "# Überprüfen, ob CUDA verfügbar ist, und den Namen des CUDA-Geräts abrufen\n",
        "device = torch.device(\"cuda\" if torch.cuda.is_available() else \"cpu\")"
      ]
    },
    {
      "cell_type": "code",
      "execution_count": 12,
      "metadata": {
        "colab": {
          "base_uri": "https://localhost:8080/"
        },
        "id": "hCHKwoosOk1k",
        "outputId": "7801d712-97f1-49e4-8fdb-4aa266904746"
      },
      "outputs": [
        {
          "output_type": "execute_result",
          "data": {
            "text/plain": [
              "device(type='cuda')"
            ]
          },
          "metadata": {},
          "execution_count": 12
        }
      ],
      "source": [
        "device"
      ]
    },
    {
      "cell_type": "markdown",
      "metadata": {
        "id": "V6sfyFhJCqPK"
      },
      "source": [
        "GPU ist verbunden für die berechnung, aber die\n",
        "\n",
        "1.   Listeneintrag\n",
        "2.   Listeneintrag\n",
        "\n",
        "Instruction für das Modell scheitert daran das dass jeweilige Modell nicht richtig im Code aus dem Buch funktioniert."
      ]
    },
    {
      "cell_type": "code",
      "source": [
        "import sqlite3"
      ],
      "metadata": {
        "id": "wnyH8nmrq_20"
      },
      "execution_count": 19,
      "outputs": []
    },
    {
      "cell_type": "code",
      "source": [
        "conn = sqlite3.connect(':memory:')\n",
        "\n",
        "version = sqlite3.version\n",
        "print(version)\n"
      ],
      "metadata": {
        "id": "cBTB_x9hq86I",
        "outputId": "b0157320-d100-4a81-bcba-3725bd081aae",
        "colab": {
          "base_uri": "https://localhost:8080/"
        }
      },
      "execution_count": 23,
      "outputs": [
        {
          "output_type": "stream",
          "name": "stdout",
          "text": [
            "2.6.0\n"
          ]
        }
      ]
    },
    {
      "cell_type": "code",
      "execution_count": 61,
      "metadata": {
        "colab": {
          "base_uri": "https://localhost:8080/"
        },
        "id": "GzrgjVw_CpxD",
        "outputId": "e120a550-0e59-411d-c44e-ed85bb261f70"
      },
      "outputs": [
        {
          "output_type": "stream",
          "name": "stdout",
          "text": [
            "SQL: SELECT name FROM Games ORDER BY globalsales DESC LIMIT 10;\n"
          ]
        }
      ],
      "source": [
        "\n",
        "import argparse\n",
        "import torch\n",
        "import re\n",
        "import time\n",
        "from transformers import pipeline\n",
        "\n",
        "def create_prompt(question):  #1\n",
        "    \"\"\" Generate prompt to translate question into SQL query.\n",
        "\n",
        "    Args:\n",
        "        question: question about data in natural language.\n",
        "\n",
        "    Returns:\n",
        "        prompt for question translation.\n",
        "    \"\"\"\n",
        "    parts = []\n",
        "    parts += ['Database:']\n",
        "    parts += ['create table games(rank int, name text, platform text,']\n",
        "    parts += ['year int, genre text, publisher text, americasales numeric,']\n",
        "    parts += ['eusales numeric, japansales numeric, othersales numeric,']\n",
        "    parts += ['globalsales numeric);']\n",
        "    parts += ['Translate this question into SQL query:']\n",
        "    parts += [question]\n",
        "    return '\\n'.join(parts)\n",
        "\n",
        "def call_llm(prompt):  #2\n",
        "    \"\"\" Query large language model and return answer.\n",
        "\n",
        "    Args:\n",
        "        prompt: input prompt for language model.\n",
        "\n",
        "    Returns:\n",
        "        Answer by language model.\n",
        "    \"\"\"\n",
        "    pipe = pipeline(\"text-generation\", model=\"Qwen/Qwen2-1.5B-Instruct\", max_length=600, device=device, truncation=True)\n",
        "    for nr_retries in range(1, 4):\n",
        "        try:\n",
        "            response = pipe(prompt, max_length=100)\n",
        "            return response[0]['generated_text']\n",
        "        except Exception as e:\n",
        "            print(f\"Error: {e}\")\n",
        "            time.sleep(nr_retries * 2)\n",
        "    raise Exception('Cannot query model!')\n",
        "\n",
        "if __name__ == '__main__':  #3\n",
        "    parser = argparse.ArgumentParser()\n",
        "    parser.add_argument('question', type=str, help='A question about games')\n",
        "    args = parser.parse_args(['What are the most sold games?'])\n",
        "\n",
        "    prompt = create_prompt(args.question)\n",
        "    answer = call_llm(prompt) #4\n",
        "    query = re.findall(r'SELECT.*?;', answer, re.DOTALL)\n",
        "    if query:\n",
        "        print(f'SQL: {query[0]}')\n",
        "    else:\n",
        "        print(\"No SQL query found in the response.\")"
      ]
    },
    {
      "cell_type": "code",
      "source": [
        "print(prompt)"
      ],
      "metadata": {
        "id": "5ZG3ySOZuhfA",
        "outputId": "39eb9667-6f38-4181-ef3f-ab8749162426",
        "colab": {
          "base_uri": "https://localhost:8080/"
        }
      },
      "execution_count": 62,
      "outputs": [
        {
          "output_type": "stream",
          "name": "stdout",
          "text": [
            "Database:\n",
            "create table games(rank int, name text, platform text,\n",
            "year int, genre text, publisher text, americasales numeric,\n",
            "eusales numeric, japansales numeric, othersales numeric,\n",
            "globalsales numeric);\n",
            "Translate this question into SQL query:\n",
            "What are the most sold games?\n"
          ]
        }
      ]
    },
    {
      "cell_type": "code",
      "source": [
        "print(answer)"
      ],
      "metadata": {
        "id": "7h7NbS6fuolT",
        "outputId": "0ebcaf26-c935-407b-ca92-f701dd64a5a2",
        "colab": {
          "base_uri": "https://localhost:8080/"
        }
      },
      "execution_count": 63,
      "outputs": [
        {
          "output_type": "stream",
          "name": "stdout",
          "text": [
            "Database:\n",
            "create table games(rank int, name text, platform text,\n",
            "year int, genre text, publisher text, americasales numeric,\n",
            "eusales numeric, japansales numeric, othersales numeric,\n",
            "globalsales numeric);\n",
            "Translate this question into SQL query:\n",
            "What are the most sold games? SELECT name FROM Games ORDER BY globalsales DESC LIMIT 10;\n",
            "Here is a possible SQL query to answer your question:\n",
            "\n",
            "```sql\n",
            "SELECT name \n",
            "FROM Games \n",
            "ORDER BY globalsales DESC \n",
            "LIMIT\n"
          ]
        }
      ]
    },
    {
      "cell_type": "code",
      "source": [
        "from transformers import pipeline\n",
        "\n",
        "messages = [\n",
        "\n",
        "            {\"role\": \"user\", \"content\": prompt},\n",
        "\n",
        "           ]\n",
        "\n",
        "pipe = pipeline(\"text-generation\", model=\"Qwen/Qwen2-1.5B-Instruct\", max_length=900, device='cuda')\n",
        "\n",
        "pipe(messages)"
      ],
      "metadata": {
        "id": "oismKH5RjV6O",
        "outputId": "4dc4bcaf-47db-4d31-844c-beb251988b29",
        "colab": {
          "base_uri": "https://localhost:8080/"
        }
      },
      "execution_count": 64,
      "outputs": [
        {
          "output_type": "execute_result",
          "data": {
            "text/plain": [
              "[{'generated_text': [{'role': 'user',\n",
              "    'content': 'Database:\\ncreate table games(rank int, name text, platform text,\\nyear int, genre text, publisher text, americasales numeric,\\neusales numeric, japansales numeric, othersales numeric,\\nglobalsales numeric);\\nTranslate this question into SQL query:\\nWhat are the most sold games?'},\n",
              "   {'role': 'assistant',\n",
              "    'content': 'SELECT rank, name, platform, year, genre, publisher, americasales, eusales, japansales, othersales, globalsales \\nFROM games\\nORDER BY globalsales DESC LIMIT 1;'}]}]"
            ]
          },
          "metadata": {},
          "execution_count": 64
        }
      ]
    },
    {
      "cell_type": "code",
      "source": [
        "conn = sqlite3.connect('games.db')\n"
      ],
      "metadata": {
        "id": "tp-oJFsYr4Y3"
      },
      "execution_count": 54,
      "outputs": []
    }
  ],
  "metadata": {
    "accelerator": "GPU",
    "colab": {
      "gpuType": "T4",
      "provenance": [],
      "include_colab_link": true
    },
    "kernelspec": {
      "display_name": "Python 3",
      "name": "python3"
    },
    "language_info": {
      "codemirror_mode": {
        "name": "ipython",
        "version": 3
      },
      "file_extension": ".py",
      "mimetype": "text/x-python",
      "name": "python",
      "nbconvert_exporter": "python",
      "pygments_lexer": "ipython3",
      "version": "3.11.9"
    }
  },
  "nbformat": 4,
  "nbformat_minor": 0
}